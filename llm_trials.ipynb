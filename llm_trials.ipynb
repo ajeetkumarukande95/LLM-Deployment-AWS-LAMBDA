{
  "cells": [
    {
      "cell_type": "code",
      "execution_count": null,
      "id": "2711d917-039b-413e-907a-89691b17f13f",
      "metadata": {
        "id": "2711d917-039b-413e-907a-89691b17f13f"
      },
      "outputs": [],
      "source": [
        "## Basic Checks"
      ]
    },
    {
      "cell_type": "code",
      "execution_count": null,
      "id": "1158d108-e8d3-4d72-a712-32e3ba56f182",
      "metadata": {
        "id": "1158d108-e8d3-4d72-a712-32e3ba56f182",
        "outputId": "204b7375-ab12-43e7-a51e-cd1cb18f3714"
      },
      "outputs": [
        {
          "name": "stdout",
          "output_type": "stream",
          "text": [
            "Python 3.10.14\n"
          ]
        }
      ],
      "source": [
        "!python --version"
      ]
    },
    {
      "cell_type": "code",
      "execution_count": null,
      "id": "113d7378-e9df-4669-98a7-a5e096dedab1",
      "metadata": {
        "id": "113d7378-e9df-4669-98a7-a5e096dedab1",
        "outputId": "aa61c93d-f840-4d8b-e5f6-793c414d964b"
      },
      "outputs": [
        {
          "name": "stdout",
          "output_type": "stream",
          "text": [
            "conda 23.11.0\n"
          ]
        }
      ],
      "source": [
        "!conda --version"
      ]
    },
    {
      "cell_type": "code",
      "execution_count": null,
      "id": "b004179b-3c8c-4258-a693-2e4b83c24a45",
      "metadata": {
        "id": "b004179b-3c8c-4258-a693-2e4b83c24a45",
        "outputId": "24284547-0218-4926-8898-968ada823b58"
      },
      "outputs": [
        {
          "name": "stdout",
          "output_type": "stream",
          "text": [
            "/bin/bash: line 1: nvidia-smi: command not found\n"
          ]
        }
      ],
      "source": [
        "!nvidia-smi"
      ]
    },
    {
      "cell_type": "code",
      "execution_count": null,
      "id": "b9ecba40-75c9-4671-84d7-c3f7c2908be4",
      "metadata": {
        "id": "b9ecba40-75c9-4671-84d7-c3f7c2908be4",
        "outputId": "ffc48459-b0b6-40c2-ae90-356cbef30466"
      },
      "outputs": [
        {
          "name": "stdout",
          "output_type": "stream",
          "text": [
            "Requirement already satisfied: transformers in /opt/conda/lib/python3.10/site-packages (4.40.2)\n",
            "Collecting einops\n",
            "  Downloading einops-0.8.0-py3-none-any.whl.metadata (12 kB)\n",
            "Collecting bitsandbytes\n",
            "  Downloading bitsandbytes-0.43.3-py3-none-manylinux_2_24_x86_64.whl.metadata (3.5 kB)\n",
            "Requirement already satisfied: filelock in /opt/conda/lib/python3.10/site-packages (from transformers) (3.15.4)\n",
            "Requirement already satisfied: huggingface-hub<1.0,>=0.19.3 in /opt/conda/lib/python3.10/site-packages (from transformers) (0.23.4)\n",
            "Requirement already satisfied: numpy>=1.17 in /opt/conda/lib/python3.10/site-packages (from transformers) (1.26.4)\n",
            "Requirement already satisfied: packaging>=20.0 in /opt/conda/lib/python3.10/site-packages (from transformers) (23.2)\n",
            "Requirement already satisfied: pyyaml>=5.1 in /opt/conda/lib/python3.10/site-packages (from transformers) (6.0.1)\n",
            "Requirement already satisfied: regex!=2019.12.17 in /opt/conda/lib/python3.10/site-packages (from transformers) (2024.5.15)\n",
            "Requirement already satisfied: requests in /opt/conda/lib/python3.10/site-packages (from transformers) (2.32.3)\n",
            "Requirement already satisfied: tokenizers<0.20,>=0.19 in /opt/conda/lib/python3.10/site-packages (from transformers) (0.19.1)\n",
            "Requirement already satisfied: safetensors>=0.4.1 in /opt/conda/lib/python3.10/site-packages (from transformers) (0.4.3)\n",
            "Requirement already satisfied: tqdm>=4.27 in /opt/conda/lib/python3.10/site-packages (from transformers) (4.66.4)\n",
            "Requirement already satisfied: torch in /opt/conda/lib/python3.10/site-packages (from bitsandbytes) (2.0.0.post104)\n",
            "Requirement already satisfied: fsspec>=2023.5.0 in /opt/conda/lib/python3.10/site-packages (from huggingface-hub<1.0,>=0.19.3->transformers) (2023.6.0)\n",
            "Requirement already satisfied: typing-extensions>=3.7.4.3 in /opt/conda/lib/python3.10/site-packages (from huggingface-hub<1.0,>=0.19.3->transformers) (4.12.2)\n",
            "Requirement already satisfied: charset-normalizer<4,>=2 in /opt/conda/lib/python3.10/site-packages (from requests->transformers) (3.3.2)\n",
            "Requirement already satisfied: idna<4,>=2.5 in /opt/conda/lib/python3.10/site-packages (from requests->transformers) (3.7)\n",
            "Requirement already satisfied: urllib3<3,>=1.21.1 in /opt/conda/lib/python3.10/site-packages (from requests->transformers) (1.26.19)\n",
            "Requirement already satisfied: certifi>=2017.4.17 in /opt/conda/lib/python3.10/site-packages (from requests->transformers) (2024.6.2)\n",
            "Requirement already satisfied: sympy in /opt/conda/lib/python3.10/site-packages (from torch->bitsandbytes) (1.12.1)\n",
            "Requirement already satisfied: networkx in /opt/conda/lib/python3.10/site-packages (from torch->bitsandbytes) (3.3)\n",
            "Requirement already satisfied: jinja2 in /opt/conda/lib/python3.10/site-packages (from torch->bitsandbytes) (3.1.4)\n",
            "Requirement already satisfied: MarkupSafe>=2.0 in /opt/conda/lib/python3.10/site-packages (from jinja2->torch->bitsandbytes) (2.1.5)\n",
            "Requirement already satisfied: mpmath<1.4.0,>=1.1.0 in /opt/conda/lib/python3.10/site-packages (from sympy->torch->bitsandbytes) (1.3.0)\n",
            "Downloading einops-0.8.0-py3-none-any.whl (43 kB)\n",
            "\u001b[2K   \u001b[90m━━━━━━━━━━━━━━━━━━━━━━━━━━━━━━━━━━━━━━━━\u001b[0m \u001b[32m43.2/43.2 kB\u001b[0m \u001b[31m5.5 MB/s\u001b[0m eta \u001b[36m0:00:00\u001b[0m\n",
            "\u001b[?25hDownloading bitsandbytes-0.43.3-py3-none-manylinux_2_24_x86_64.whl (137.5 MB)\n",
            "\u001b[2K   \u001b[90m━━━━━━━━━━━━━━━━━━━━━━━━━━━━━━━━━━━━━━━━\u001b[0m \u001b[32m137.5/137.5 MB\u001b[0m \u001b[31m28.4 MB/s\u001b[0m eta \u001b[36m0:00:00\u001b[0m00:01\u001b[0m00:01\u001b[0m\n",
            "\u001b[?25hInstalling collected packages: einops, bitsandbytes\n",
            "Successfully installed bitsandbytes-0.43.3 einops-0.8.0\n"
          ]
        }
      ],
      "source": [
        "!pip install transformers einops bitsandbytes"
      ]
    },
    {
      "cell_type": "code",
      "execution_count": null,
      "id": "66f194fa-c882-4916-83bf-b7eb79165201",
      "metadata": {
        "id": "66f194fa-c882-4916-83bf-b7eb79165201",
        "outputId": "e0f936ea-26c5-4c53-e99d-7cfbf4d6eba7"
      },
      "outputs": [
        {
          "name": "stderr",
          "output_type": "stream",
          "text": [
            "2024-08-03 14:29:37.286011: I tensorflow/core/platform/cpu_feature_guard.cc:182] This TensorFlow binary is optimized to use available CPU instructions in performance-critical operations.\n",
            "To enable the following instructions: SSE4.1 SSE4.2 AVX AVX2 AVX512F FMA, in other operations, rebuild TensorFlow with the appropriate compiler flags.\n",
            "The installed version of bitsandbytes was compiled without GPU support. 8-bit optimizers, 8-bit multiplication, and GPU quantization are unavailable.\n"
          ]
        }
      ],
      "source": [
        "from transformers import AutoTokenizer, AutoModelForSeq2SeqLM\n",
        "from transformers import pipeline\n",
        "import base64\n",
        "import torch"
      ]
    },
    {
      "cell_type": "code",
      "execution_count": null,
      "id": "2ea35e63-6b4f-484f-95d5-ec46aad61837",
      "metadata": {
        "id": "2ea35e63-6b4f-484f-95d5-ec46aad61837"
      },
      "outputs": [],
      "source": [
        "checkpoint = \"MBZUAI/LaMini-T5-738M\""
      ]
    },
    {
      "cell_type": "code",
      "execution_count": null,
      "id": "5ede65b0-42a4-428d-8f72-dd21025d1bc7",
      "metadata": {
        "id": "5ede65b0-42a4-428d-8f72-dd21025d1bc7",
        "outputId": "435da7ac-4471-4307-b5ad-aac217e161bf",
        "colab": {
          "referenced_widgets": [
            "6f2a2537a27a4ecc9a122ca702cc78fb",
            "2031f9553ab64a87bc724bc6e8f6738a",
            "fe7a917b68bd44c2bf1a65bdcfb7b6c5",
            "c70e05071cda463499ef1ce6d11acc0e",
            "dffc76e194a04a3988c94803f8be236f",
            "fc899a99c43445be8d2102e02f4aa532",
            "79ec63b4aa1d4a8ab4f913d288cd610e"
          ]
        }
      },
      "outputs": [
        {
          "name": "stderr",
          "output_type": "stream",
          "text": [
            "/opt/conda/lib/python3.10/site-packages/huggingface_hub/file_download.py:1132: FutureWarning: `resume_download` is deprecated and will be removed in version 1.0.0. Downloads always resume when possible. If you want to force a new download, use `force_download=True`.\n",
            "  warnings.warn(\n"
          ]
        },
        {
          "data": {
            "application/vnd.jupyter.widget-view+json": {
              "model_id": "6f2a2537a27a4ecc9a122ca702cc78fb",
              "version_major": 2,
              "version_minor": 0
            },
            "text/plain": [
              "tokenizer_config.json:   0%|          | 0.00/2.36k [00:00<?, ?B/s]"
            ]
          },
          "metadata": {},
          "output_type": "display_data"
        },
        {
          "data": {
            "application/vnd.jupyter.widget-view+json": {
              "model_id": "2031f9553ab64a87bc724bc6e8f6738a",
              "version_major": 2,
              "version_minor": 0
            },
            "text/plain": [
              "spiece.model:   0%|          | 0.00/792k [00:00<?, ?B/s]"
            ]
          },
          "metadata": {},
          "output_type": "display_data"
        },
        {
          "data": {
            "application/vnd.jupyter.widget-view+json": {
              "model_id": "fe7a917b68bd44c2bf1a65bdcfb7b6c5",
              "version_major": 2,
              "version_minor": 0
            },
            "text/plain": [
              "tokenizer.json:   0%|          | 0.00/2.42M [00:00<?, ?B/s]"
            ]
          },
          "metadata": {},
          "output_type": "display_data"
        },
        {
          "data": {
            "application/vnd.jupyter.widget-view+json": {
              "model_id": "c70e05071cda463499ef1ce6d11acc0e",
              "version_major": 2,
              "version_minor": 0
            },
            "text/plain": [
              "special_tokens_map.json:   0%|          | 0.00/2.20k [00:00<?, ?B/s]"
            ]
          },
          "metadata": {},
          "output_type": "display_data"
        },
        {
          "data": {
            "application/vnd.jupyter.widget-view+json": {
              "model_id": "dffc76e194a04a3988c94803f8be236f",
              "version_major": 2,
              "version_minor": 0
            },
            "text/plain": [
              "config.json:   0%|          | 0.00/1.56k [00:00<?, ?B/s]"
            ]
          },
          "metadata": {},
          "output_type": "display_data"
        },
        {
          "data": {
            "application/vnd.jupyter.widget-view+json": {
              "model_id": "fc899a99c43445be8d2102e02f4aa532",
              "version_major": 2,
              "version_minor": 0
            },
            "text/plain": [
              "pytorch_model.bin:   0%|          | 0.00/2.95G [00:00<?, ?B/s]"
            ]
          },
          "metadata": {},
          "output_type": "display_data"
        },
        {
          "name": "stderr",
          "output_type": "stream",
          "text": [
            "/opt/conda/lib/python3.10/site-packages/torch/_utils.py:776: UserWarning: TypedStorage is deprecated. It will be removed in the future and UntypedStorage will be the only storage class. This should only matter to you if you are using storages directly.  To access UntypedStorage directly, use tensor.untyped_storage() instead of tensor.storage()\n",
            "  return self.fget.__get__(instance, owner)()\n"
          ]
        },
        {
          "data": {
            "application/vnd.jupyter.widget-view+json": {
              "model_id": "79ec63b4aa1d4a8ab4f913d288cd610e",
              "version_major": 2,
              "version_minor": 0
            },
            "text/plain": [
              "generation_config.json:   0%|          | 0.00/147 [00:00<?, ?B/s]"
            ]
          },
          "metadata": {},
          "output_type": "display_data"
        }
      ],
      "source": [
        "tokenizer = AutoTokenizer.from_pretrained(checkpoint)\n",
        "model = AutoModelForSeq2SeqLM.from_pretrained(checkpoint, device_map='auto', torch_dtype=torch.float32)"
      ]
    },
    {
      "cell_type": "code",
      "execution_count": null,
      "id": "67e99399-9b05-49d7-91fb-6a1601adee33",
      "metadata": {
        "id": "67e99399-9b05-49d7-91fb-6a1601adee33",
        "outputId": "ce588daa-4fc2-4554-e5e4-b77d5c1288fc"
      },
      "outputs": [
        {
          "name": "stdout",
          "output_type": "stream",
          "text": [
            "Requirement already satisfied: accelerate in /opt/conda/lib/python3.10/site-packages (0.21.0)\n",
            "Requirement already satisfied: numpy>=1.17 in /opt/conda/lib/python3.10/site-packages (from accelerate) (1.26.4)\n",
            "Requirement already satisfied: packaging>=20.0 in /opt/conda/lib/python3.10/site-packages (from accelerate) (23.2)\n",
            "Requirement already satisfied: psutil in /opt/conda/lib/python3.10/site-packages (from accelerate) (5.9.8)\n",
            "Requirement already satisfied: pyyaml in /opt/conda/lib/python3.10/site-packages (from accelerate) (6.0.1)\n",
            "Requirement already satisfied: torch>=1.10.0 in /opt/conda/lib/python3.10/site-packages (from accelerate) (2.0.0.post104)\n",
            "Requirement already satisfied: filelock in /opt/conda/lib/python3.10/site-packages (from torch>=1.10.0->accelerate) (3.15.4)\n",
            "Requirement already satisfied: typing-extensions in /opt/conda/lib/python3.10/site-packages (from torch>=1.10.0->accelerate) (4.12.2)\n",
            "Requirement already satisfied: sympy in /opt/conda/lib/python3.10/site-packages (from torch>=1.10.0->accelerate) (1.12.1)\n",
            "Requirement already satisfied: networkx in /opt/conda/lib/python3.10/site-packages (from torch>=1.10.0->accelerate) (3.3)\n",
            "Requirement already satisfied: jinja2 in /opt/conda/lib/python3.10/site-packages (from torch>=1.10.0->accelerate) (3.1.4)\n",
            "Requirement already satisfied: MarkupSafe>=2.0 in /opt/conda/lib/python3.10/site-packages (from jinja2->torch>=1.10.0->accelerate) (2.1.5)\n",
            "Requirement already satisfied: mpmath<1.4.0,>=1.1.0 in /opt/conda/lib/python3.10/site-packages (from sympy->torch>=1.10.0->accelerate) (1.3.0)\n"
          ]
        }
      ],
      "source": [
        "!pip install accelerate"
      ]
    },
    {
      "cell_type": "code",
      "execution_count": null,
      "id": "3d6640aa-c5d7-470d-9538-3c3009602527",
      "metadata": {
        "id": "3d6640aa-c5d7-470d-9538-3c3009602527"
      },
      "outputs": [],
      "source": [
        "def llm_pipeline():\n",
        "    pipe=pipeline(\n",
        "        'text2text-generation',\n",
        "        model = model,\n",
        "        tokenizer = tokenizer,\n",
        "        max_length = 256,\n",
        "        do_sample = True,\n",
        "        temperature = 0.3,\n",
        "        top_p = 0.95\n",
        "    )\n",
        "    local_llm = HuggingFacePipeline(pipeline = pipe)\n",
        "    return local_llm"
      ]
    },
    {
      "cell_type": "code",
      "execution_count": null,
      "id": "d691659d-68f6-475e-913f-87264e357bab",
      "metadata": {
        "id": "d691659d-68f6-475e-913f-87264e357bab"
      },
      "outputs": [],
      "source": [
        "!pip install langchain langchain-community -q"
      ]
    },
    {
      "cell_type": "code",
      "execution_count": null,
      "id": "b0104506-e46a-4ef7-b387-484ef36bb9cf",
      "metadata": {
        "id": "b0104506-e46a-4ef7-b387-484ef36bb9cf"
      },
      "outputs": [],
      "source": [
        "from langchain.llms.huggingface_pipeline import HuggingFacePipeline"
      ]
    },
    {
      "cell_type": "code",
      "execution_count": null,
      "id": "63aa9a41-3d19-4807-8937-cc3cf99046ea",
      "metadata": {
        "id": "63aa9a41-3d19-4807-8937-cc3cf99046ea"
      },
      "outputs": [],
      "source": [
        "input_prompt = \"Write an article about Cyber Security\""
      ]
    },
    {
      "cell_type": "code",
      "execution_count": null,
      "id": "36f082c0-0053-42a0-9bef-b53183556c95",
      "metadata": {
        "id": "36f082c0-0053-42a0-9bef-b53183556c95",
        "outputId": "d94fe47d-13f9-441d-8115-eadc5e46f360"
      },
      "outputs": [
        {
          "name": "stderr",
          "output_type": "stream",
          "text": [
            "/opt/conda/lib/python3.10/site-packages/langchain_core/_api/deprecation.py:119: LangChainDeprecationWarning: The method `BaseLLM.__call__` was deprecated in langchain-core 0.1.7 and will be removed in 0.3.0. Use invoke instead.\n",
            "  warn_deprecated(\n"
          ]
        }
      ],
      "source": [
        "llm_model = llm_pipeline()\n",
        "generated_text = llm_model(input_prompt)"
      ]
    },
    {
      "cell_type": "code",
      "execution_count": null,
      "id": "08313c1a-c647-4d35-8f96-5f487f98a513",
      "metadata": {
        "id": "08313c1a-c647-4d35-8f96-5f487f98a513",
        "outputId": "50fb2c76-4bdb-4e5f-f062-c6b3ec92ff0f"
      },
      "outputs": [
        {
          "data": {
            "text/plain": [
              "'Cybersecurity is the practice of protecting computer systems, networks, and data from unauthorized access, theft, and damage. It is an essential aspect of modern society, and it is essential for businesses, governments, and individuals to take measures to safeguard their digital assets. Cybersecurity is the practice of using technology to protect against cyber threats, such as hacking, phishing, malware, and unauthorized access. Cybersecurity is essential for the protection of sensitive information, such as financial records, personal information, and sensitive data. It is essential to keep all systems, networks, and devices secure to prevent unauthorized access, data breaches'"
            ]
          },
          "execution_count": 19,
          "metadata": {},
          "output_type": "execute_result"
        }
      ],
      "source": [
        "generated_text"
      ]
    },
    {
      "cell_type": "code",
      "execution_count": null,
      "id": "9e2be1ca-47c5-4c47-99fd-601612c92fd0",
      "metadata": {
        "id": "9e2be1ca-47c5-4c47-99fd-601612c92fd0",
        "outputId": "da115d12-273b-47c7-c533-1ee79b31d253"
      },
      "outputs": [
        {
          "name": "stdout",
          "output_type": "stream",
          "text": [
            "Name: sagemaker\n",
            "Version: 2.224.1\n",
            "Summary: Open source library for training and deploying models on Amazon SageMaker.\n",
            "Home-page: https://github.com/aws/sagemaker-python-sdk/\n",
            "Author: Amazon Web Services\n",
            "Author-email: \n",
            "License: Apache License 2.0\n",
            "Location: /opt/conda/lib/python3.10/site-packages\n",
            "Requires: attrs, boto3, cloudpickle, docker, google-pasta, importlib-metadata, jsonschema, numpy, packaging, pandas, pathos, platformdirs, protobuf, psutil, PyYAML, requests, schema, smdebug-rulesconfig, tblib, tqdm, urllib3\n",
            "Required-by: \n"
          ]
        }
      ],
      "source": [
        "!pip show sagemaker"
      ]
    },
    {
      "cell_type": "code",
      "execution_count": null,
      "id": "4ddbc011-0a48-4512-a1da-00b895adb9d7",
      "metadata": {
        "id": "4ddbc011-0a48-4512-a1da-00b895adb9d7",
        "outputId": "37541e63-907a-4cc5-84e4-87e3b7ffdaa3"
      },
      "outputs": [
        {
          "name": "stdout",
          "output_type": "stream",
          "text": [
            "Requirement already satisfied: sagemaker in /opt/conda/lib/python3.10/site-packages (2.224.1)\n",
            "Collecting sagemaker\n",
            "  Downloading sagemaker-2.227.0-py3-none-any.whl.metadata (15 kB)\n",
            "Requirement already satisfied: attrs<24,>=23.1.0 in /opt/conda/lib/python3.10/site-packages (from sagemaker) (23.2.0)\n",
            "Collecting boto3<2.0,>=1.34.142 (from sagemaker)\n",
            "  Downloading boto3-1.34.153-py3-none-any.whl.metadata (6.6 kB)\n",
            "Requirement already satisfied: cloudpickle==2.2.1 in /opt/conda/lib/python3.10/site-packages (from sagemaker) (2.2.1)\n",
            "Requirement already satisfied: google-pasta in /opt/conda/lib/python3.10/site-packages (from sagemaker) (0.2.0)\n",
            "Requirement already satisfied: numpy<2.0,>=1.9.0 in /opt/conda/lib/python3.10/site-packages (from sagemaker) (1.26.4)\n",
            "Requirement already satisfied: protobuf<5.0,>=3.12 in /opt/conda/lib/python3.10/site-packages (from sagemaker) (4.24.4)\n",
            "Requirement already satisfied: smdebug-rulesconfig==1.0.1 in /opt/conda/lib/python3.10/site-packages (from sagemaker) (1.0.1)\n",
            "Requirement already satisfied: importlib-metadata<7.0,>=1.4.0 in /opt/conda/lib/python3.10/site-packages (from sagemaker) (6.10.0)\n",
            "Requirement already satisfied: packaging>=20.0 in /opt/conda/lib/python3.10/site-packages (from sagemaker) (23.2)\n",
            "Requirement already satisfied: pandas in /opt/conda/lib/python3.10/site-packages (from sagemaker) (2.1.4)\n",
            "Requirement already satisfied: pathos in /opt/conda/lib/python3.10/site-packages (from sagemaker) (0.3.2)\n",
            "Requirement already satisfied: schema in /opt/conda/lib/python3.10/site-packages (from sagemaker) (0.7.7)\n",
            "Requirement already satisfied: PyYAML~=6.0 in /opt/conda/lib/python3.10/site-packages (from sagemaker) (6.0.1)\n",
            "Requirement already satisfied: jsonschema in /opt/conda/lib/python3.10/site-packages (from sagemaker) (4.17.3)\n",
            "Requirement already satisfied: platformdirs in /opt/conda/lib/python3.10/site-packages (from sagemaker) (4.2.2)\n",
            "Requirement already satisfied: tblib<4,>=1.7.0 in /opt/conda/lib/python3.10/site-packages (from sagemaker) (2.0.0)\n",
            "Requirement already satisfied: urllib3<3.0.0,>=1.26.8 in /opt/conda/lib/python3.10/site-packages (from sagemaker) (1.26.19)\n",
            "Requirement already satisfied: requests in /opt/conda/lib/python3.10/site-packages (from sagemaker) (2.32.3)\n",
            "Requirement already satisfied: docker in /opt/conda/lib/python3.10/site-packages (from sagemaker) (7.1.0)\n",
            "Requirement already satisfied: tqdm in /opt/conda/lib/python3.10/site-packages (from sagemaker) (4.66.4)\n",
            "Requirement already satisfied: psutil in /opt/conda/lib/python3.10/site-packages (from sagemaker) (5.9.8)\n",
            "Collecting botocore<1.35.0,>=1.34.153 (from boto3<2.0,>=1.34.142->sagemaker)\n",
            "  Downloading botocore-1.34.153-py3-none-any.whl.metadata (5.7 kB)\n",
            "Requirement already satisfied: jmespath<2.0.0,>=0.7.1 in /opt/conda/lib/python3.10/site-packages (from boto3<2.0,>=1.34.142->sagemaker) (1.0.1)\n",
            "Requirement already satisfied: s3transfer<0.11.0,>=0.10.0 in /opt/conda/lib/python3.10/site-packages (from boto3<2.0,>=1.34.142->sagemaker) (0.10.2)\n",
            "Requirement already satisfied: zipp>=0.5 in /opt/conda/lib/python3.10/site-packages (from importlib-metadata<7.0,>=1.4.0->sagemaker) (3.19.2)\n",
            "Requirement already satisfied: charset-normalizer<4,>=2 in /opt/conda/lib/python3.10/site-packages (from requests->sagemaker) (3.3.2)\n",
            "Requirement already satisfied: idna<4,>=2.5 in /opt/conda/lib/python3.10/site-packages (from requests->sagemaker) (3.7)\n",
            "Requirement already satisfied: certifi>=2017.4.17 in /opt/conda/lib/python3.10/site-packages (from requests->sagemaker) (2024.6.2)\n",
            "Requirement already satisfied: six in /opt/conda/lib/python3.10/site-packages (from google-pasta->sagemaker) (1.16.0)\n",
            "Requirement already satisfied: pyrsistent!=0.17.0,!=0.17.1,!=0.17.2,>=0.14.0 in /opt/conda/lib/python3.10/site-packages (from jsonschema->sagemaker) (0.20.0)\n",
            "Requirement already satisfied: python-dateutil>=2.8.2 in /opt/conda/lib/python3.10/site-packages (from pandas->sagemaker) (2.9.0)\n",
            "Requirement already satisfied: pytz>=2020.1 in /opt/conda/lib/python3.10/site-packages (from pandas->sagemaker) (2023.3)\n",
            "Requirement already satisfied: tzdata>=2022.1 in /opt/conda/lib/python3.10/site-packages (from pandas->sagemaker) (2024.1)\n",
            "Requirement already satisfied: ppft>=1.7.6.8 in /opt/conda/lib/python3.10/site-packages (from pathos->sagemaker) (1.7.6.8)\n",
            "Requirement already satisfied: dill>=0.3.8 in /opt/conda/lib/python3.10/site-packages (from pathos->sagemaker) (0.3.8)\n",
            "Requirement already satisfied: pox>=0.3.4 in /opt/conda/lib/python3.10/site-packages (from pathos->sagemaker) (0.3.4)\n",
            "Requirement already satisfied: multiprocess>=0.70.16 in /opt/conda/lib/python3.10/site-packages (from pathos->sagemaker) (0.70.16)\n",
            "Downloading sagemaker-2.227.0-py3-none-any.whl (1.5 MB)\n",
            "\u001b[2K   \u001b[90m━━━━━━━━━━━━━━━━━━━━━━━━━━━━━━━━━━━━━━━━\u001b[0m \u001b[32m1.5/1.5 MB\u001b[0m \u001b[31m76.5 MB/s\u001b[0m eta \u001b[36m0:00:00\u001b[0m\n",
            "\u001b[?25hDownloading boto3-1.34.153-py3-none-any.whl (139 kB)\n",
            "\u001b[2K   \u001b[90m━━━━━━━━━━━━━━━━━━━━━━━━━━━━━━━━━━━━━━━━\u001b[0m \u001b[32m139.2/139.2 kB\u001b[0m \u001b[31m31.4 MB/s\u001b[0m eta \u001b[36m0:00:00\u001b[0m\n",
            "\u001b[?25hDownloading botocore-1.34.153-py3-none-any.whl (12.4 MB)\n",
            "\u001b[2K   \u001b[90m━━━━━━━━━━━━━━━━━━━━━━━━━━━━━━━━━━━━━━━━\u001b[0m \u001b[32m12.4/12.4 MB\u001b[0m \u001b[31m139.8 MB/s\u001b[0m eta \u001b[36m0:00:00\u001b[0m00:01\u001b[0m0:01\u001b[0m\n",
            "\u001b[?25hInstalling collected packages: botocore, boto3, sagemaker\n",
            "  Attempting uninstall: botocore\n",
            "    Found existing installation: botocore 1.34.131\n",
            "    Uninstalling botocore-1.34.131:\n",
            "      Successfully uninstalled botocore-1.34.131\n",
            "  Attempting uninstall: boto3\n",
            "    Found existing installation: boto3 1.34.131\n",
            "    Uninstalling boto3-1.34.131:\n",
            "      Successfully uninstalled boto3-1.34.131\n",
            "  Attempting uninstall: sagemaker\n",
            "    Found existing installation: sagemaker 2.224.1\n",
            "    Uninstalling sagemaker-2.224.1:\n",
            "      Successfully uninstalled sagemaker-2.224.1\n",
            "\u001b[31mERROR: pip's dependency resolver does not currently take into account all the packages that are installed. This behaviour is the source of the following dependency conflicts.\n",
            "aiobotocore 2.13.1 requires botocore<1.34.132,>=1.34.70, but you have botocore 1.34.153 which is incompatible.\n",
            "autogluon-common 0.8.3 requires pandas<1.6,>=1.4.1, but you have pandas 2.1.4 which is incompatible.\n",
            "autogluon-core 0.8.3 requires pandas<1.6,>=1.4.1, but you have pandas 2.1.4 which is incompatible.\n",
            "autogluon-core 0.8.3 requires scikit-learn<1.4.1,>=1.1, but you have scikit-learn 1.4.2 which is incompatible.\n",
            "autogluon-features 0.8.3 requires pandas<1.6,>=1.4.1, but you have pandas 2.1.4 which is incompatible.\n",
            "autogluon-features 0.8.3 requires scikit-learn<1.4.1,>=1.1, but you have scikit-learn 1.4.2 which is incompatible.\n",
            "autogluon-multimodal 0.8.3 requires pandas<1.6,>=1.4.1, but you have pandas 2.1.4 which is incompatible.\n",
            "autogluon-multimodal 0.8.3 requires pytorch-lightning<1.10.0,>=1.9.0, but you have pytorch-lightning 2.0.9 which is incompatible.\n",
            "autogluon-multimodal 0.8.3 requires scikit-learn<1.4.1,>=1.1, but you have scikit-learn 1.4.2 which is incompatible.\n",
            "autogluon-multimodal 0.8.3 requires torch<1.14,>=1.9, but you have torch 2.0.0.post104 which is incompatible.\n",
            "autogluon-multimodal 0.8.3 requires torchmetrics<0.12.0,>=0.11.0, but you have torchmetrics 1.0.3 which is incompatible.\n",
            "autogluon-multimodal 0.8.3 requires torchvision<0.15.0, but you have torchvision 0.15.2a0+ab7b3e6 which is incompatible.\n",
            "autogluon-tabular 0.8.3 requires pandas<1.6,>=1.4.1, but you have pandas 2.1.4 which is incompatible.\n",
            "autogluon-tabular 0.8.3 requires scikit-learn<1.4.1,>=1.1, but you have scikit-learn 1.4.2 which is incompatible.\n",
            "autogluon-timeseries 0.8.3 requires pandas<1.6,>=1.4.1, but you have pandas 2.1.4 which is incompatible.\n",
            "autogluon-timeseries 0.8.3 requires pytorch-lightning<1.10.0,>=1.7.4, but you have pytorch-lightning 2.0.9 which is incompatible.\n",
            "autogluon-timeseries 0.8.3 requires torch<1.14,>=1.9, but you have torch 2.0.0.post104 which is incompatible.\u001b[0m\u001b[31m\n",
            "\u001b[0mSuccessfully installed boto3-1.34.153 botocore-1.34.153 sagemaker-2.227.0\n"
          ]
        }
      ],
      "source": [
        "!pip install -U sagemaker"
      ]
    },
    {
      "cell_type": "code",
      "execution_count": null,
      "id": "cc7f8e8e-e4cf-449f-b1be-2375a87e6ce9",
      "metadata": {
        "id": "cc7f8e8e-e4cf-449f-b1be-2375a87e6ce9",
        "outputId": "8cc577af-267b-4827-8c2f-2cecf13030d5"
      },
      "outputs": [
        {
          "name": "stdout",
          "output_type": "stream",
          "text": [
            "------------!"
          ]
        },
        {
          "data": {
            "text/plain": [
              "[{'generated_text': 'To become more healthy, you can: 1. Eat a balanced and nutritious diet, including plenty of fruits and vegetables. 2. Exercise regularly, aiming for at least 30 minutes of physical activity per day. 3. Manage stress through relaxation techniques like meditation and deep breathing exercises. 4. Avoid smoking and limit alcohol intake. 5. Get enough sleep, taking care of your body through rest, and dehydration. 6. Manage your risk factors like diabetes, high blood pressure, and heart disease. 7. Seek healthcare'}]"
            ]
          },
          "execution_count": 24,
          "metadata": {},
          "output_type": "execute_result"
        }
      ],
      "source": [
        "import json\n",
        "import sagemaker\n",
        "import boto3\n",
        "from sagemaker.huggingface import HuggingFaceModel, get_huggingface_llm_image_uri\n",
        "\n",
        "try:\n",
        "\trole = sagemaker.get_execution_role()\n",
        "except ValueError:\n",
        "\tiam = boto3.client('iam')\n",
        "\trole = iam.get_role(RoleName='sagemaker_execution_role')['Role']['Arn']\n",
        "\n",
        "# Hub Model configuration. https://huggingface.co/models\n",
        "hub = {\n",
        "\t'HF_MODEL_ID':'MBZUAI/LaMini-T5-738M',\n",
        "\t'HF_TASK' : 'text2text-generation',\n",
        "    'device_map' : 'auto',\n",
        "    'torch_dtype' : 'torch.float32'\n",
        "}\n",
        "\n",
        "\n",
        "\n",
        "# create Hugging Face Model Class\n",
        "huggingface_model = HuggingFaceModel(\n",
        "\timage_uri=get_huggingface_llm_image_uri(\"huggingface\",version=\"2.2.0\"),\n",
        "\tenv=hub,\n",
        "\trole=role,\n",
        ")\n",
        "\n",
        "# deploy model to SageMaker Inference\n",
        "predictor = huggingface_model.deploy(\n",
        "\tinitial_instance_count=1,\n",
        "\tinstance_type=\"ml.g5.xlarge\",\n",
        "\tcontainer_startup_health_check_timeout=300,\n",
        "  )\n",
        "\n",
        "# send request\n",
        "predictor.predict({\n",
        "\t\"inputs\": \"how can I become more healthy?\",\n",
        "})"
      ]
    },
    {
      "cell_type": "code",
      "execution_count": null,
      "id": "898b45a3-8250-4f8c-bec2-9635b93555b0",
      "metadata": {
        "id": "898b45a3-8250-4f8c-bec2-9635b93555b0",
        "outputId": "22a34599-f733-42d6-e198-287fb173e1b0"
      },
      "outputs": [
        {
          "name": "stdout",
          "output_type": "stream",
          "text": [
            "[{'generated_text': 'Cybersecurity is the practice of protecting computer systems, networks, and data from unauthorized access, theft, and damage. It is an essential aspect of modern society, and it is essential to ensure that all data is protected. Cybersecurity is the practice of preventing and detecting cyber threats, such as phishing attacks, malware, and ransomware. Cybersecurity is the practice of implementing and maintaining secure systems and networks. It involves implementing strong passwords, two-factor authentication, and regular software updates. Cybersecurity is essential for businesses and organizations to protect their data and reputation. It is also essential to have'}]\n"
          ]
        }
      ],
      "source": [
        "prompt = \"Write an article about Cyber Security\"\n",
        "\n",
        "payload = {\n",
        "    \"inputs\" : prompt,\n",
        "    \"parameters\" : {\n",
        "        \"do_sample\" : True,\n",
        "        \"top_p\" : 0.9,\n",
        "        \"temperature\" : 0.3,\n",
        "        \"top_k\" : 50,\n",
        "        \"max_new_tokens\" : 256,\n",
        "        \"repition_penalty\" : 1.03\n",
        "    }\n",
        "}\n",
        "\n",
        "response = predictor.predict(payload)\n",
        "print(response)"
      ]
    },
    {
      "cell_type": "code",
      "execution_count": null,
      "id": "38c54cef-dcaf-4c4b-bac2-10388b58c242",
      "metadata": {
        "id": "38c54cef-dcaf-4c4b-bac2-10388b58c242"
      },
      "outputs": [],
      "source": [
        "# Python Application for the SLM"
      ]
    },
    {
      "cell_type": "code",
      "execution_count": null,
      "id": "b9f065cd-7e7c-4406-91f1-56aa80e9e8e8",
      "metadata": {
        "id": "b9f065cd-7e7c-4406-91f1-56aa80e9e8e8"
      },
      "outputs": [],
      "source": [
        "import boto3\n",
        "\n",
        "# Create a low-level client representing Amazon SageMaker Runtime\n",
        "sagemaker_runtime = boto3.client(\n",
        "    \"sagemaker-runtime\", region_name='us-east-1')\n",
        "\n",
        "# The endpoint name must be unique within\n",
        "# an AWS Region in your AWS account.\n",
        "endpoint_name='huggingface-pytorch-tgi-inference-2024-08-03-14-56-54-652'"
      ]
    },
    {
      "cell_type": "code",
      "execution_count": null,
      "id": "dd834cdc-d452-41db-92d9-a506a293acb3",
      "metadata": {
        "id": "dd834cdc-d452-41db-92d9-a506a293acb3"
      },
      "outputs": [],
      "source": [
        "# Gets inference from the model hosted at the specified endpoint:\n",
        "response = sagemaker_runtime.invoke_endpoint(\n",
        "    EndpointName=endpoint_name,\n",
        "    Body=json.dumps(payload),\n",
        "    ContentType = \"application/json\"\n",
        "    )\n",
        "\n",
        "# Decodes and prints the response body:\n",
        "#print(response['Body'].read().decode('utf-8'))"
      ]
    },
    {
      "cell_type": "code",
      "execution_count": null,
      "id": "992a043c-85be-4df7-a7c2-1d142440a27f",
      "metadata": {
        "id": "992a043c-85be-4df7-a7c2-1d142440a27f",
        "outputId": "4e99b941-67f6-4d98-fce1-48cf9cf3d9bc"
      },
      "outputs": [
        {
          "data": {
            "text/plain": [
              "{'ResponseMetadata': {'RequestId': '2054d24b-5a9b-42d5-a152-474877fcc83c',\n",
              "  'HTTPStatusCode': 200,\n",
              "  'HTTPHeaders': {'x-amzn-requestid': '2054d24b-5a9b-42d5-a152-474877fcc83c',\n",
              "   'x-amzn-invoked-production-variant': 'AllTraffic',\n",
              "   'date': 'Sat, 03 Aug 2024 15:15:06 GMT',\n",
              "   'content-type': 'application/json',\n",
              "   'content-length': '687',\n",
              "   'connection': 'keep-alive'},\n",
              "  'RetryAttempts': 0},\n",
              " 'ContentType': 'application/json',\n",
              " 'InvokedProductionVariant': 'AllTraffic',\n",
              " 'Body': <botocore.response.StreamingBody at 0x7f91722cdcc0>}"
            ]
          },
          "execution_count": 31,
          "metadata": {},
          "output_type": "execute_result"
        }
      ],
      "source": [
        "response"
      ]
    },
    {
      "cell_type": "code",
      "execution_count": null,
      "id": "73a3cb22-993e-46db-823f-a0ea4a1a6034",
      "metadata": {
        "id": "73a3cb22-993e-46db-823f-a0ea4a1a6034"
      },
      "outputs": [],
      "source": [
        "predictions = json.loads(response['Body'].read().decode('utf-8'))"
      ]
    },
    {
      "cell_type": "code",
      "execution_count": null,
      "id": "75b6e3ff-cc8f-4c4f-a628-d5600692a1be",
      "metadata": {
        "id": "75b6e3ff-cc8f-4c4f-a628-d5600692a1be",
        "outputId": "57924d93-6664-4582-869e-a7d08d3a86ad"
      },
      "outputs": [
        {
          "data": {
            "text/plain": [
              "[{'generated_text': 'Cybersecurity is the practice of protecting computer systems, networks, and data from unauthorized access, theft, and damage. It is a critical aspect of modern society, and it is essential to take measures to ensure the safety and security of our digital assets. Cybersecurity is the practice of protecting our computer systems, networks, and data from cyber attacks. Cybersecurity is the practice of identifying, preventing, and responding to cyber threats. It involves a combination of physical security measures, such as firewalls, encryption, and intrusion detection systems. These measures are designed to protect against malicious actors, such as hackers, hackers'}]"
            ]
          },
          "execution_count": 35,
          "metadata": {},
          "output_type": "execute_result"
        }
      ],
      "source": [
        "predictions"
      ]
    },
    {
      "cell_type": "code",
      "execution_count": null,
      "id": "6908b8bc-9f17-4393-a857-2b1da2a69725",
      "metadata": {
        "id": "6908b8bc-9f17-4393-a857-2b1da2a69725"
      },
      "outputs": [],
      "source": [
        "final_result = predictions[0]['generated_text']"
      ]
    },
    {
      "cell_type": "code",
      "execution_count": null,
      "id": "82452bc4-64ad-4418-ae7a-091b1996fa56",
      "metadata": {
        "id": "82452bc4-64ad-4418-ae7a-091b1996fa56",
        "outputId": "e5d226d9-2de0-43fb-b7f7-a2b8f2c96abc"
      },
      "outputs": [
        {
          "data": {
            "text/plain": [
              "'Cybersecurity is the practice of protecting computer systems, networks, and data from unauthorized access, theft, and damage. It is a critical aspect of modern society, and it is essential to take measures to ensure the safety and security of our digital assets. Cybersecurity is the practice of protecting our computer systems, networks, and data from cyber attacks. Cybersecurity is the practice of identifying, preventing, and responding to cyber threats. It involves a combination of physical security measures, such as firewalls, encryption, and intrusion detection systems. These measures are designed to protect against malicious actors, such as hackers, hackers'"
            ]
          },
          "execution_count": 37,
          "metadata": {},
          "output_type": "execute_result"
        }
      ],
      "source": [
        "final_result"
      ]
    },
    {
      "cell_type": "code",
      "execution_count": null,
      "id": "178f6a13-9524-4789-ad78-1e2d4e3443b6",
      "metadata": {
        "id": "178f6a13-9524-4789-ad78-1e2d4e3443b6"
      },
      "outputs": [],
      "source": []
    }
  ],
  "metadata": {
    "kernelspec": {
      "display_name": "Python 3 (ipykernel)",
      "language": "python",
      "name": "python3"
    },
    "language_info": {
      "codemirror_mode": {
        "name": "ipython",
        "version": 3
      },
      "file_extension": ".py",
      "mimetype": "text/x-python",
      "name": "python",
      "nbconvert_exporter": "python",
      "pygments_lexer": "ipython3",
      "version": "3.10.14"
    },
    "colab": {
      "provenance": []
    }
  },
  "nbformat": 4,
  "nbformat_minor": 5
}